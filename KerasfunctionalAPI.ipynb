{
  "nbformat": 4,
  "nbformat_minor": 0,
  "metadata": {
    "colab": {
      "name": "KerasfunctionalAPI.ipynb",
      "provenance": [],
      "collapsed_sections": []
    },
    "kernelspec": {
      "name": "python3",
      "display_name": "Python 3"
    },
    "language_info": {
      "name": "python"
    }
  },
  "cells": [
    {
      "cell_type": "code",
      "metadata": {
        "id": "9c_a75Lk6XQW"
      },
      "source": [
        "import tensorflow as tf\n",
        "from tensorflow import keras"
      ],
      "execution_count": 1,
      "outputs": []
    },
    {
      "cell_type": "code",
      "metadata": {
        "id": "XDo0I2ocCRfX"
      },
      "source": [
        "class_names = [\"T-shirt/top\",\"Trouser\",\"Pullover\",\n",
        "               \"Dress\",\"Coat\",\"Sandal\",\"Shirt\",\"Sneaker\",\n",
        "               \"Bag\",\"Ankle Boot\"]"
      ],
      "execution_count": 247,
      "outputs": []
    },
    {
      "cell_type": "code",
      "metadata": {
        "id": "7-F_nPAB4JhD"
      },
      "source": [
        "(x_train, y_train), (x_test, y_test) = fashion_mnist.load_data()"
      ],
      "execution_count": 404,
      "outputs": []
    },
    {
      "cell_type": "code",
      "metadata": {
        "colab": {
          "base_uri": "https://localhost:8080/"
        },
        "id": "aRG7k9doCxHN",
        "outputId": "7651bb8b-6eba-4b9f-b1a7-6850ea832b7f"
      },
      "source": [
        "x_train = x_train.astype('float32') / 255.0\n",
        "x_test = x_test.astype('float32') / 255.0\n",
        "\n",
        "x_train.shape, x_test.shape, y_train.shape, y_test.shape"
      ],
      "execution_count": 405,
      "outputs": [
        {
          "output_type": "execute_result",
          "data": {
            "text/plain": [
              "((60000, 28, 28), (10000, 28, 28), (60000,), (10000,))"
            ]
          },
          "metadata": {},
          "execution_count": 405
        }
      ]
    },
    {
      "cell_type": "code",
      "metadata": {
        "id": "YPMELlc0Cyqo"
      },
      "source": [
        "input_shape = (x_train.shape[1:] + (1,)) # (28, 28, 1)\n",
        "num_classes = len(np.unique(y_train)) "
      ],
      "execution_count": 406,
      "outputs": []
    },
    {
      "cell_type": "code",
      "metadata": {
        "id": "itwigHGkC3N9"
      },
      "source": [
        "y_train = keras.utils.to_categorical(y_train, num_classes)\n",
        "y_test = keras.utils.to_categorical(y_test, num_classes)"
      ],
      "execution_count": 407,
      "outputs": []
    },
    {
      "cell_type": "code",
      "metadata": {
        "id": "yowk8dfqDIb-"
      },
      "source": [
        "input_ = keras.layers.Input(shape = input_shape)\n",
        "batchnorm1 = keras.layers.BatchNormalization()(input_)\n",
        "hidden1 =  keras.layers.Conv2D(filters=32, kernel_size=(3, 3), activation='relu')(batchnorm1)\n",
        "hidden2 = keras.layers.Conv2D(filters=64, kernel_size=(3, 3), activation='relu')(hidden1)\n",
        "dropout1 = keras.layers.Dropout(0.25)(hidden2)\n",
        "flatten = keras.layers.Flatten()(dropout1)\n",
        "layer3 = keras.layers.Dense(units=128, activation='relu')(flatten)\n",
        "dropout2 = keras.layers.Dropout(0.2)(layer3)\n",
        "flatten_input = keras.layers.Flatten()(input_)\n",
        "flatten_input_dense = keras.layers.Dense(units=128, activation='relu')(flatten_input)\n",
        "concat = keras.layers.Concatenate()([flatten,flatten_input_dense])\n",
        "output = keras.layers.Dense(units=num_classes, activation='softmax')(concat)\n",
        "model = keras.Model(inputs = [input_],outputs = [output]) "
      ],
      "execution_count": 438,
      "outputs": []
    },
    {
      "cell_type": "code",
      "metadata": {
        "colab": {
          "base_uri": "https://localhost:8080/"
        },
        "id": "kE1GlhajGlYL",
        "outputId": "e6f41135-141d-4646-c3d4-84f8e7bec7c6"
      },
      "source": [
        "model.summary()"
      ],
      "execution_count": 439,
      "outputs": [
        {
          "output_type": "stream",
          "name": "stdout",
          "text": [
            "Model: \"model_51\"\n",
            "__________________________________________________________________________________________________\n",
            " Layer (type)                   Output Shape         Param #     Connected to                     \n",
            "==================================================================================================\n",
            " input_85 (InputLayer)          [(None, 28, 28, 1)]  0           []                               \n",
            "                                                                                                  \n",
            " batch_normalization_131 (Batch  (None, 28, 28, 1)   4           ['input_85[0][0]']               \n",
            " Normalization)                                                                                   \n",
            "                                                                                                  \n",
            " conv2d_26 (Conv2D)             (None, 26, 26, 32)   320         ['batch_normalization_131[0][0]']\n",
            "                                                                                                  \n",
            " conv2d_27 (Conv2D)             (None, 24, 24, 64)   18496       ['conv2d_26[0][0]']              \n",
            "                                                                                                  \n",
            " dropout_122 (Dropout)          (None, 24, 24, 64)   0           ['conv2d_27[0][0]']              \n",
            "                                                                                                  \n",
            " flatten_27 (Flatten)           (None, 784)          0           ['input_85[0][0]']               \n",
            "                                                                                                  \n",
            " flatten_26 (Flatten)           (None, 36864)        0           ['dropout_122[0][0]']            \n",
            "                                                                                                  \n",
            " dense_197 (Dense)              (None, 128)          100480      ['flatten_27[0][0]']             \n",
            "                                                                                                  \n",
            " concatenate_64 (Concatenate)   (None, 36992)        0           ['flatten_26[0][0]',             \n",
            "                                                                  'dense_197[0][0]']              \n",
            "                                                                                                  \n",
            " dense_198 (Dense)              (None, 10)           369930      ['concatenate_64[0][0]']         \n",
            "                                                                                                  \n",
            "==================================================================================================\n",
            "Total params: 489,230\n",
            "Trainable params: 489,228\n",
            "Non-trainable params: 2\n",
            "__________________________________________________________________________________________________\n"
          ]
        }
      ]
    },
    {
      "cell_type": "code",
      "metadata": {
        "id": "mTaqCtytHSFZ"
      },
      "source": [
        "model.compile(loss= \"categorical_crossentropy\",\n",
        "              optimizer = \"adam\",\n",
        "              metrics = [\"accuracy\"])\n"
      ],
      "execution_count": 440,
      "outputs": []
    },
    {
      "cell_type": "code",
      "metadata": {
        "colab": {
          "base_uri": "https://localhost:8080/"
        },
        "id": "AcTyuJPbHdXC",
        "outputId": "f811861a-e664-48b6-c95e-a031efebea3a"
      },
      "source": [
        "history = model.fit(np.expand_dims(x_train, -1), y_train, batch_size=128, epochs=3, validation_split=0.3)"
      ],
      "execution_count": 441,
      "outputs": [
        {
          "output_type": "stream",
          "name": "stdout",
          "text": [
            "Epoch 1/3\n",
            "329/329 [==============================] - 135s 359ms/step - loss: 0.4428 - accuracy: 0.8416 - val_loss: 0.3531 - val_accuracy: 0.8811\n",
            "Epoch 2/3\n",
            "329/329 [==============================] - 115s 349ms/step - loss: 0.2854 - accuracy: 0.8966 - val_loss: 0.2842 - val_accuracy: 0.8991\n",
            "Epoch 3/3\n",
            "329/329 [==============================] - 115s 350ms/step - loss: 0.2280 - accuracy: 0.9167 - val_loss: 0.2652 - val_accuracy: 0.9071\n"
          ]
        }
      ]
    },
    {
      "cell_type": "code",
      "metadata": {
        "colab": {
          "base_uri": "https://localhost:8080/"
        },
        "id": "OVhhIO8qHg7a",
        "outputId": "cb6ef118-1451-4553-f982-40ceb047424b"
      },
      "source": [
        "loss, accuracy = model.evaluate(np.expand_dims(x_test, -1), y_test, verbose=0)\n",
        "print(loss, accuracy)"
      ],
      "execution_count": 442,
      "outputs": [
        {
          "output_type": "stream",
          "name": "stdout",
          "text": [
            "0.2740049660205841 0.9021999835968018\n"
          ]
        }
      ]
    },
    {
      "cell_type": "code",
      "metadata": {
        "colab": {
          "base_uri": "https://localhost:8080/",
          "height": 339
        },
        "id": "E3A1eEuhOkJd",
        "outputId": "d3f3e6f6-7587-4f1c-9575-aba749050f25"
      },
      "source": [
        "import matplotlib.pyplot as plt\n",
        "%matplotlib inline\n",
        "\n",
        "fig, (ax1, ax2) = plt.subplots(nrows=1, ncols=2, figsize=(14, 5))\n",
        "ax1.plot(history.history['loss'], label='Train Loss')\n",
        "ax1.plot(history.history['val_loss'], label='Val Loss')\n",
        "ax1.legend()\n",
        "ax2.plot(history.history['accuracy'], label='Train Accuracy')\n",
        "ax2.plot(history.history['val_accuracy'], label='Val Accuracy')\n",
        "ax2.legend()"
      ],
      "execution_count": 443,
      "outputs": [
        {
          "output_type": "execute_result",
          "data": {
            "text/plain": [
              "<matplotlib.legend.Legend at 0x7f4951c32d10>"
            ]
          },
          "metadata": {},
          "execution_count": 443
        },
        {
          "output_type": "display_data",
          "data": {
            "image/png": "[encoded data removed]",
            "text/plain": [
              "<Figure size 1008x360 with 2 Axes>"
            ]
          },
          "metadata": {
            "needs_background": "light"
          }
        }
      ]
    },
    {
      "cell_type": "code",
      "metadata": {
        "id": "VChuP_1dOl6T"
      },
      "source": [
        ""
      ],
      "execution_count": null,
      "outputs": []
    },
    {
      "cell_type": "code",
      "metadata": {
        "id": "kyXHi_DHOl95"
      },
      "source": [
        ""
      ],
      "execution_count": null,
      "outputs": []
    }
  ]
}